{
  "nbformat": 4,
  "nbformat_minor": 0,
  "metadata": {
    "colab": {
      "provenance": [],
      "authorship_tag": "ABX9TyN3PiRtwpVlpt9iOAkxvajO",
      "include_colab_link": true
    },
    "kernelspec": {
      "name": "python3",
      "display_name": "Python 3"
    },
    "language_info": {
      "name": "python"
    }
  },
  "cells": [
    {
      "cell_type": "markdown",
      "metadata": {
        "id": "view-in-github",
        "colab_type": "text"
      },
      "source": [
        "<a href=\"https://colab.research.google.com/github/friedelj/ComputerVision_Team2/blob/main/CV_Team2_Version3.ipynb\" target=\"_parent\"><img src=\"https://colab.research.google.com/assets/colab-badge.svg\" alt=\"Open In Colab\"/></a>"
      ]
    },
    {
      "cell_type": "markdown",
      "source": [
        "Computer Vision Team 2 Draft 3"
      ],
      "metadata": {
        "id": "IRpyx_5C6z3J"
      }
    },
    {
      "cell_type": "markdown",
      "source": [
        "The top program is version 2.  The bottom program is version 3 which shows the counting boxes.  Version 2 appears more accuraye.  Version 3 is under counting."
      ],
      "metadata": {
        "id": "MJOXb86uAEEB"
      }
    },
    {
      "cell_type": "code",
      "execution_count": 1,
      "metadata": {
        "colab": {
          "base_uri": "https://localhost:8080/"
        },
        "id": "hHTJB58W6uzr",
        "outputId": "bd97a38d-fa58-45c6-de88-26c8c3fc8b69"
      },
      "outputs": [
        {
          "output_type": "stream",
          "name": "stdout",
          "text": [
            "Requirement already satisfied: gradio in /usr/local/lib/python3.10/dist-packages (5.7.1)\n",
            "Requirement already satisfied: aiofiles<24.0,>=22.0 in /usr/local/lib/python3.10/dist-packages (from gradio) (23.2.1)\n",
            "Requirement already satisfied: anyio<5.0,>=3.0 in /usr/local/lib/python3.10/dist-packages (from gradio) (3.7.1)\n",
            "Requirement already satisfied: fastapi<1.0,>=0.115.2 in /usr/local/lib/python3.10/dist-packages (from gradio) (0.115.6)\n",
            "Requirement already satisfied: ffmpy in /usr/local/lib/python3.10/dist-packages (from gradio) (0.4.0)\n",
            "Requirement already satisfied: gradio-client==1.5.0 in /usr/local/lib/python3.10/dist-packages (from gradio) (1.5.0)\n",
            "Requirement already satisfied: httpx>=0.24.1 in /usr/local/lib/python3.10/dist-packages (from gradio) (0.27.2)\n",
            "Requirement already satisfied: huggingface-hub>=0.25.1 in /usr/local/lib/python3.10/dist-packages (from gradio) (0.26.2)\n",
            "Requirement already satisfied: jinja2<4.0 in /usr/local/lib/python3.10/dist-packages (from gradio) (3.1.4)\n",
            "Requirement already satisfied: markupsafe~=2.0 in /usr/local/lib/python3.10/dist-packages (from gradio) (2.1.5)\n",
            "Requirement already satisfied: numpy<3.0,>=1.0 in /usr/local/lib/python3.10/dist-packages (from gradio) (1.26.4)\n",
            "Requirement already satisfied: orjson~=3.0 in /usr/local/lib/python3.10/dist-packages (from gradio) (3.10.11)\n",
            "Requirement already satisfied: packaging in /usr/local/lib/python3.10/dist-packages (from gradio) (24.2)\n",
            "Requirement already satisfied: pandas<3.0,>=1.0 in /usr/local/lib/python3.10/dist-packages (from gradio) (2.2.2)\n",
            "Requirement already satisfied: pillow<12.0,>=8.0 in /usr/local/lib/python3.10/dist-packages (from gradio) (11.0.0)\n",
            "Requirement already satisfied: pydantic>=2.0 in /usr/local/lib/python3.10/dist-packages (from gradio) (2.9.2)\n",
            "Requirement already satisfied: pydub in /usr/local/lib/python3.10/dist-packages (from gradio) (0.25.1)\n",
            "Requirement already satisfied: python-multipart==0.0.12 in /usr/local/lib/python3.10/dist-packages (from gradio) (0.0.12)\n",
            "Requirement already satisfied: pyyaml<7.0,>=5.0 in /usr/local/lib/python3.10/dist-packages (from gradio) (6.0.2)\n",
            "Requirement already satisfied: ruff>=0.2.2 in /usr/local/lib/python3.10/dist-packages (from gradio) (0.8.1)\n",
            "Requirement already satisfied: safehttpx<1.0,>=0.1.1 in /usr/local/lib/python3.10/dist-packages (from gradio) (0.1.6)\n",
            "Requirement already satisfied: semantic-version~=2.0 in /usr/local/lib/python3.10/dist-packages (from gradio) (2.10.0)\n",
            "Requirement already satisfied: starlette<1.0,>=0.40.0 in /usr/local/lib/python3.10/dist-packages (from gradio) (0.41.3)\n",
            "Requirement already satisfied: tomlkit==0.12.0 in /usr/local/lib/python3.10/dist-packages (from gradio) (0.12.0)\n",
            "Requirement already satisfied: typer<1.0,>=0.12 in /usr/local/lib/python3.10/dist-packages (from gradio) (0.13.0)\n",
            "Requirement already satisfied: typing-extensions~=4.0 in /usr/local/lib/python3.10/dist-packages (from gradio) (4.12.2)\n",
            "Requirement already satisfied: uvicorn>=0.14.0 in /usr/local/lib/python3.10/dist-packages (from gradio) (0.32.1)\n",
            "Requirement already satisfied: fsspec in /usr/local/lib/python3.10/dist-packages (from gradio-client==1.5.0->gradio) (2024.10.0)\n",
            "Requirement already satisfied: websockets<13.0,>=10.0 in /usr/local/lib/python3.10/dist-packages (from gradio-client==1.5.0->gradio) (12.0)\n",
            "Requirement already satisfied: idna>=2.8 in /usr/local/lib/python3.10/dist-packages (from anyio<5.0,>=3.0->gradio) (3.10)\n",
            "Requirement already satisfied: sniffio>=1.1 in /usr/local/lib/python3.10/dist-packages (from anyio<5.0,>=3.0->gradio) (1.3.1)\n",
            "Requirement already satisfied: exceptiongroup in /usr/local/lib/python3.10/dist-packages (from anyio<5.0,>=3.0->gradio) (1.2.2)\n",
            "Requirement already satisfied: certifi in /usr/local/lib/python3.10/dist-packages (from httpx>=0.24.1->gradio) (2024.8.30)\n",
            "Requirement already satisfied: httpcore==1.* in /usr/local/lib/python3.10/dist-packages (from httpx>=0.24.1->gradio) (1.0.7)\n",
            "Requirement already satisfied: h11<0.15,>=0.13 in /usr/local/lib/python3.10/dist-packages (from httpcore==1.*->httpx>=0.24.1->gradio) (0.14.0)\n",
            "Requirement already satisfied: filelock in /usr/local/lib/python3.10/dist-packages (from huggingface-hub>=0.25.1->gradio) (3.16.1)\n",
            "Requirement already satisfied: requests in /usr/local/lib/python3.10/dist-packages (from huggingface-hub>=0.25.1->gradio) (2.32.3)\n",
            "Requirement already satisfied: tqdm>=4.42.1 in /usr/local/lib/python3.10/dist-packages (from huggingface-hub>=0.25.1->gradio) (4.66.6)\n",
            "Requirement already satisfied: python-dateutil>=2.8.2 in /usr/local/lib/python3.10/dist-packages (from pandas<3.0,>=1.0->gradio) (2.8.2)\n",
            "Requirement already satisfied: pytz>=2020.1 in /usr/local/lib/python3.10/dist-packages (from pandas<3.0,>=1.0->gradio) (2024.2)\n",
            "Requirement already satisfied: tzdata>=2022.7 in /usr/local/lib/python3.10/dist-packages (from pandas<3.0,>=1.0->gradio) (2024.2)\n",
            "Requirement already satisfied: annotated-types>=0.6.0 in /usr/local/lib/python3.10/dist-packages (from pydantic>=2.0->gradio) (0.7.0)\n",
            "Requirement already satisfied: pydantic-core==2.23.4 in /usr/local/lib/python3.10/dist-packages (from pydantic>=2.0->gradio) (2.23.4)\n",
            "Requirement already satisfied: click>=8.0.0 in /usr/local/lib/python3.10/dist-packages (from typer<1.0,>=0.12->gradio) (8.1.7)\n",
            "Requirement already satisfied: shellingham>=1.3.0 in /usr/local/lib/python3.10/dist-packages (from typer<1.0,>=0.12->gradio) (1.5.4)\n",
            "Requirement already satisfied: rich>=10.11.0 in /usr/local/lib/python3.10/dist-packages (from typer<1.0,>=0.12->gradio) (13.9.4)\n",
            "Requirement already satisfied: six>=1.5 in /usr/local/lib/python3.10/dist-packages (from python-dateutil>=2.8.2->pandas<3.0,>=1.0->gradio) (1.16.0)\n",
            "Requirement already satisfied: markdown-it-py>=2.2.0 in /usr/local/lib/python3.10/dist-packages (from rich>=10.11.0->typer<1.0,>=0.12->gradio) (3.0.0)\n",
            "Requirement already satisfied: pygments<3.0.0,>=2.13.0 in /usr/local/lib/python3.10/dist-packages (from rich>=10.11.0->typer<1.0,>=0.12->gradio) (2.18.0)\n",
            "Requirement already satisfied: charset-normalizer<4,>=2 in /usr/local/lib/python3.10/dist-packages (from requests->huggingface-hub>=0.25.1->gradio) (3.4.0)\n",
            "Requirement already satisfied: urllib3<3,>=1.21.1 in /usr/local/lib/python3.10/dist-packages (from requests->huggingface-hub>=0.25.1->gradio) (2.2.3)\n",
            "Requirement already satisfied: mdurl~=0.1 in /usr/local/lib/python3.10/dist-packages (from markdown-it-py>=2.2.0->rich>=10.11.0->typer<1.0,>=0.12->gradio) (0.1.2)\n"
          ]
        }
      ],
      "source": [
        "!pip install gradio"
      ]
    },
    {
      "cell_type": "code",
      "source": [
        "import os\n",
        "import random\n",
        "import torch\n",
        "import cv2\n",
        "from torchvision.transforms import ToTensor\n",
        "from PIL import Image, ImageTk\n",
        "import tkinter as tk\n",
        "from tkinter import filedialog, Label, Button\n",
        "import numpy as np\n",
        "from pycocotools.coco import COCO\n",
        "from torchvision.models.detection import maskrcnn_resnet50_fpn\n",
        "import requests\n",
        "from tqdm import tqdm  # For progress bar\n",
        "import requests\n",
        "import tarfile\n",
        "import zipfile\n",
        "import gradio as gr\n",
        "import cv2\n",
        "from torchvision.transforms import ToTensor\n",
        "from tkinter import Label, Button"
      ],
      "metadata": {
        "id": "pqWw4WlH9ayZ"
      },
      "execution_count": 2,
      "outputs": []
    },
    {
      "cell_type": "code",
      "source": [
        "# Set the base directory where the dataset will be downloaded\n",
        "base_dir = r\"C:\\Users\\josep\\COCO\"\n",
        "# URLs for the COCO 2017 dataset\n",
        "urls = {\n",
        "    \"train2017\": \"http://images.cocodataset.org/zips/train2017.zip\",\n",
        "    \"val2017\": \"http://images.cocodataset.org/zips/val2017.zip\",\n",
        "    \"annotations\": \"http://images.cocodataset.org/annotations/annotations_trainval2017.zip\"\n",
        "}\n",
        "\n",
        "# Create the directory if it doesn't exist\n",
        "os.makedirs(base_dir, exist_ok=True)\n",
        "\n",
        "def download_and_extract(url, dest_folder):\n",
        "    filename = os.path.join(dest_folder, url.split(\"/\")[-1])\n",
        "    # Download file\n",
        "    if not os.path.exists(filename):\n",
        "        print(f\"Downloading {filename}...\")\n",
        "        response = requests.get(url, stream=True)\n",
        "        total_size = int(response.headers.get('content-length', 0))\n",
        "        with open(filename, 'wb') as file, tqdm(\n",
        "            desc=filename,\n",
        "            total=total_size,\n",
        "            unit='B',\n",
        "            unit_scale=True,\n",
        "            unit_divisor=1024,\n",
        "        ) as bar:\n",
        "            for data in response.iter_content(chunk_size=1024):\n",
        "                bar.update(len(data))\n",
        "                file.write(data)\n",
        "\n",
        "    # Extract file\n",
        "    print(f\"Extracting {filename}...\")\n",
        "    import zipfile\n",
        "    with zipfile.ZipFile(filename, 'r') as zip_ref:\n",
        "        zip_ref.extractall(dest_folder)\n",
        "\n",
        "def download_and_extract(url, base_dir):\n",
        "    \"\"\"\n",
        "    Downloads and extracts a file from a given URL.\n",
        "    Supports .zip and .tar.gz formats.\n",
        "\n",
        "    Args:\n",
        "        url (str): The URL of the file to download.\n",
        "        base_dir (str): Directory to extract the files into.\n",
        "    \"\"\"\n",
        "    # Get the filename from the URL\n",
        "    filename = os.path.basename(url)\n",
        "    filepath = os.path.join(base_dir, filename)\n",
        "\n",
        "    # Download the file\n",
        "    if not os.path.exists(filepath):\n",
        "        print(f\"Downloading {filename}...\")\n",
        "        response = requests.get(url, stream=True)\n",
        "        with open(filepath, \"wb\") as f:\n",
        "            for chunk in response.iter_content(chunk_size=1024):\n",
        "                if chunk:\n",
        "                    f.write(chunk)\n",
        "\n",
        "    # Extract the file\n",
        "    print(f\"Extracting {filename}...\")\n",
        "    if filename.endswith(\".zip\"):\n",
        "        with zipfile.ZipFile(filepath, \"r\") as zip_ref:\n",
        "            zip_ref.extractall(base_dir)\n",
        "    elif filename.endswith((\".tar.gz\", \".tgz\")):\n",
        "        with tarfile.open(filepath, \"r:gz\") as tar_ref:\n",
        "            tar_ref.extractall(base_dir)\n",
        "    else:\n",
        "        print(f\"Unsupported file type for {filename}\")\n",
        "\n",
        "for name, url in urls.items():\n",
        "    download_and_extract(url, base_dir)\n",
        "\n",
        "# Load YOLOv5 model\n",
        "def load_yolov5_model():\n",
        "    return torch.hub.load('ultralytics/yolov5', 'yolov5s')\n",
        "\n",
        "# Load Mask R-CNN model\n",
        "def load_mask_rcnn_model():\n",
        "    model = maskrcnn_resnet50_fpn(pretrained=True)\n",
        "    model.eval()\n",
        "    return model\n",
        "\n",
        "# COCO dataset initialization\n",
        "def initialize_coco_dataset(dataset_path, annotation_file):\n",
        "    coco = COCO(annotation_file)\n",
        "    image_ids = coco.getImgIds()\n",
        "    images = coco.loadImgs(image_ids)\n",
        "    return coco, images\n",
        "\n",
        "# People counting logic using bounding box overlap\n",
        "def count_people(bboxes):\n",
        "    count = 0\n",
        "    for i, bbox1 in enumerate(bboxes):\n",
        "        overlap = False\n",
        "        for j, bbox2 in enumerate(bboxes):\n",
        "            if i != j and calculate_iou(bbox1, bbox2) > 0.5:\n",
        "                overlap = True\n",
        "                break\n",
        "        if not overlap:\n",
        "            count += 1\n",
        "    return count\n",
        "\n",
        "# IOU calculation\n",
        "def calculate_iou(box1, box2):\n",
        "    x1, y1, w1, h1 = box1\n",
        "    x2, y2, w2, h2 = box2\n",
        "\n",
        "    xa = max(x1, x2)\n",
        "    ya = max(y1, y2)\n",
        "    xb = min(x1 + w1, x2 + w2)\n",
        "    yb = min(y1 + h1, y2 + h2)\n",
        "\n",
        "    inter_area = max(0, xb - xa) * max(0, yb - ya)\n",
        "    box1_area = w1 * h1\n",
        "    box2_area = w2 * h2\n",
        "\n",
        "    iou = inter_area / (box1_area + box2_area - inter_area)\n",
        "    return iou\n",
        "\n",
        "# Randomly select images\n",
        "def select_random_images(images, num_images=6):\n",
        "    return random.sample(images, num_images)\n",
        "\n",
        "# GUI for displaying images and counts\n",
        "class PeopleCountingApp:\n",
        "    def __init__(self, root, coco, images, yolov5_model, mask_rcnn_model, dataset_path):\n",
        "        self.root = root\n",
        "        self.coco = coco\n",
        "        self.images = images\n",
        "        self.yolov5_model = yolov5_model\n",
        "        self.mask_rcnn_model = mask_rcnn_model\n",
        "        self.dataset_path = dataset_path\n",
        "        self.image_labels = []\n",
        "\n",
        "        self.setup_ui()\n",
        "\n",
        "    def setup_ui(self):\n",
        "        self.label = Label(self.root, text=\"People Counting System\")\n",
        "        self.label.pack()\n",
        "\n",
        "        self.select_button = Button(self.root, text=\"Select Random Images\", command=self.show_random_images)\n",
        "        self.select_button.pack()\n",
        "\n",
        "    def show_random_images(self):\n",
        "        # Clear existing labels\n",
        "        for label in self.image_labels:\n",
        "            label.destroy()\n",
        "        self.image_labels = []\n",
        "\n",
        "        # Select random images\n",
        "        selected_images = select_random_images(self.images)\n",
        "\n",
        "        for img_info in selected_images:\n",
        "            img_path = os.path.join(self.dataset_path, img_info['file_name'])\n",
        "            image = Image.open(img_path)\n",
        "            count = self.process_image(img_path)\n",
        "\n",
        "            # Resize for display\n",
        "            image = image.resize((300, 300))\n",
        "            photo = ImageTk.PhotoImage(image)\n",
        "\n",
        "            img_label = Label(self.root, image=photo)\n",
        "            img_label.photo = photo  # Keep reference\n",
        "            img_label.pack()\n",
        "\n",
        "            count_label = Label(self.root, text=f\"People Count: {count}\")\n",
        "            count_label.pack()\n",
        "\n",
        "            self.image_labels.append(img_label)\n",
        "            self.image_labels.append(count_label)\n",
        "\n",
        "    def process_image(self, img_path):\n",
        "        image = cv2.imread(img_path)\n",
        "        image_rgb = cv2.cvtColor(image, cv2.COLOR_BGR2RGB)\n",
        "        image_tensor = ToTensor()(image_rgb).unsqueeze(0)\n",
        "\n",
        "        # YOLOv5 detection\n",
        "        yolov5_results = self.yolov5_model(image)\n",
        "        yolo_bboxes = [x[:4] for x in yolov5_results.xyxy[0].cpu().numpy() if int(x[-1]) == 0]  # Class 0: Person\n",
        "\n",
        "        # Mask R-CNN detection\n",
        "        mask_rcnn_results = self.mask_rcnn_model(image_tensor)[0]\n",
        "        mask_rcnn_bboxes = mask_rcnn_results['boxes'][mask_rcnn_results['labels'] == 1].detach().cpu().numpy()\n",
        "\n",
        "        # Combine results and count\n",
        "        combined_bboxes = list(yolo_bboxes) + list(mask_rcnn_bboxes)\n",
        "        return count_people(combined_bboxes)\n",
        "\n",
        "# Load models and dataset\n",
        "def initialize_coco_dataset(dataset_path, annotation_file):\n",
        "    from pycocotools.coco import COCO\n",
        "    coco = COCO(annotation_file)\n",
        "    images = coco.getImgIds()\n",
        "    return coco, images\n",
        "\n",
        "def load_yolov5_model():\n",
        "    import torch\n",
        "    model = torch.hub.load('ultralytics/yolov5', 'yolov5s', trust_repo=True)\n",
        "    return model\n",
        "\n",
        "def load_mask_rcnn_model():\n",
        "    import torchvision\n",
        "    model = torchvision.models.detection.maskrcnn_resnet50_fpn(pretrained=True)\n",
        "    model.eval()\n",
        "    return model\n",
        "\n",
        "def count_people(image):\n",
        "    # Perform inference using YOLOv5 and Mask R-CNN models\n",
        "    results = yolov5_model(image)\n",
        "    detections = results.pandas().xyxy[0]  # Get detections in pandas format\n",
        "    people_count = len(detections[detections['name'] == 'person'])\n",
        "\n",
        "    return f\"Number of people detected: {people_count}\"\n",
        "\n",
        "# Setup paths\n",
        "dataset_path = '/content/'\n",
        "annotation_file = '/content/instances_val2017.json'"
      ],
      "metadata": {
        "colab": {
          "base_uri": "https://localhost:8080/"
        },
        "id": "TRljqiEkv-rt",
        "outputId": "6e2fda09-a9ae-451e-f0c0-11f39a6c7705"
      },
      "execution_count": 11,
      "outputs": [
        {
          "output_type": "stream",
          "name": "stdout",
          "text": [
            "Extracting train2017.zip...\n",
            "Extracting val2017.zip...\n",
            "Extracting annotations_trainval2017.zip...\n"
          ]
        }
      ]
    },
    {
      "cell_type": "code",
      "source": [
        "# Load COCO dataset and models\n",
        "coco, images = initialize_coco_dataset(dataset_path, annotation_file)\n",
        "yolov5_model = load_yolov5_model()\n",
        "mask_rcnn_model = load_mask_rcnn_model()"
      ],
      "metadata": {
        "colab": {
          "base_uri": "https://localhost:8080/"
        },
        "id": "2R5FuzpjQJ_Y",
        "outputId": "67b9d87f-85c5-4487-dfbd-0aa09a0a63aa"
      },
      "execution_count": 12,
      "outputs": [
        {
          "output_type": "stream",
          "name": "stdout",
          "text": [
            "loading annotations into memory...\n",
            "Done (t=0.93s)\n",
            "creating index...\n",
            "index created!\n"
          ]
        },
        {
          "output_type": "stream",
          "name": "stderr",
          "text": [
            "Using cache found in /root/.cache/torch/hub/ultralytics_yolov5_master\n",
            "YOLOv5 🚀 2024-12-4 Python-3.10.12 torch-2.5.1+cu121 CPU\n",
            "\n",
            "Fusing layers... \n",
            "YOLOv5s summary: 213 layers, 7225885 parameters, 0 gradients, 16.4 GFLOPs\n",
            "Adding AutoShape... \n"
          ]
        }
      ]
    },
    {
      "cell_type": "code",
      "source": [
        "# Gradio Interface\n",
        "iface = gr.Interface(fn=count_people, inputs=\"image\", outputs=\"text\", title=\"People Counting App\")\n",
        "iface.launch()"
      ],
      "metadata": {
        "colab": {
          "base_uri": "https://localhost:8080/",
          "height": 625
        },
        "id": "u1hfsd05RxeN",
        "outputId": "db3f9930-4729-4291-a362-00ebc0dc1dad"
      },
      "execution_count": 13,
      "outputs": [
        {
          "output_type": "stream",
          "name": "stdout",
          "text": [
            "Running Gradio in a Colab notebook requires sharing enabled. Automatically setting `share=True` (you can turn this off by setting `share=False` in `launch()` explicitly).\n",
            "\n",
            "Colab notebook detected. To show errors in colab notebook, set debug=True in launch()\n",
            "* Running on public URL: https://1a70739d6c6faf6f35.gradio.live\n",
            "\n",
            "This share link expires in 72 hours. For free permanent hosting and GPU upgrades, run `gradio deploy` from the terminal in the working directory to deploy to Hugging Face Spaces (https://huggingface.co/spaces)\n"
          ]
        },
        {
          "output_type": "display_data",
          "data": {
            "text/plain": [
              "<IPython.core.display.HTML object>"
            ],
            "text/html": [
              "<div><iframe src=\"https://1a70739d6c6faf6f35.gradio.live\" width=\"100%\" height=\"500\" allow=\"autoplay; camera; microphone; clipboard-read; clipboard-write;\" frameborder=\"0\" allowfullscreen></iframe></div>"
            ]
          },
          "metadata": {}
        },
        {
          "output_type": "execute_result",
          "data": {
            "text/plain": []
          },
          "metadata": {},
          "execution_count": 13
        }
      ]
    },
    {
      "cell_type": "markdown",
      "source": [
        "# Above is working code:   good at small crowds.  MISSING Boxes"
      ],
      "metadata": {
        "id": "wH_xAsPpSm0W"
      }
    },
    {
      "cell_type": "code",
      "source": [],
      "metadata": {
        "id": "imJ0hKujS2Y9"
      },
      "execution_count": null,
      "outputs": []
    },
    {
      "cell_type": "code",
      "source": [],
      "metadata": {
        "id": "CwNQhZ7sS3Md"
      },
      "execution_count": null,
      "outputs": []
    },
    {
      "cell_type": "code",
      "source": [],
      "metadata": {
        "id": "8V1Q8DsBS3IR"
      },
      "execution_count": null,
      "outputs": []
    },
    {
      "cell_type": "code",
      "source": [],
      "metadata": {
        "id": "_ug1xI7WS3El"
      },
      "execution_count": null,
      "outputs": []
    },
    {
      "cell_type": "code",
      "source": [],
      "metadata": {
        "id": "oOn2dKjAS3Av"
      },
      "execution_count": null,
      "outputs": []
    },
    {
      "cell_type": "code",
      "source": [],
      "metadata": {
        "id": "HK8FgCk-S288"
      },
      "execution_count": null,
      "outputs": []
    },
    {
      "cell_type": "code",
      "source": [],
      "metadata": {
        "id": "D4_mfWnGS24u"
      },
      "execution_count": null,
      "outputs": []
    },
    {
      "cell_type": "code",
      "source": [],
      "metadata": {
        "id": "MhfGxyMKS20F"
      },
      "execution_count": null,
      "outputs": []
    },
    {
      "cell_type": "code",
      "source": [],
      "metadata": {
        "id": "kh1_3zVzS2v1"
      },
      "execution_count": null,
      "outputs": []
    },
    {
      "cell_type": "code",
      "source": [
        "import os\n",
        "import random\n",
        "import torch\n",
        "import cv2\n",
        "from torchvision.transforms import ToTensor\n",
        "from PIL import Image, ImageTk\n",
        "import tkinter as tk\n",
        "from tkinter import filedialog, Label, Button\n",
        "import numpy as np\n",
        "from pycocotools.coco import COCO\n",
        "from torchvision.models.detection import maskrcnn_resnet50_fpn\n",
        "import requests\n",
        "from tqdm import tqdm  # For progress bar\n",
        "import zipfile\n",
        "import gradio as gr\n",
        "\n",
        "# Set the base directory where the dataset will be downloaded\n",
        "base_dir = r\"C:\\Users\\josep\\COCO\"\n",
        "\n",
        "# URLs for the COCO 2017 dataset\n",
        "urls = {\n",
        "    \"train2017\": \"http://images.cocodataset.org/zips/train2017.zip\",\n",
        "    \"val2017\": \"http://images.cocodataset.org/zips/val2017.zip\",\n",
        "    \"annotations\": \"http://images.cocodataset.org/annotations/annotations_trainval2017.zip\"\n",
        "}\n",
        "\n",
        "# Create the directory if it doesn't exist\n",
        "os.makedirs(base_dir, exist_ok=True)\n",
        "\n",
        "# Function to download and extract dataset\n",
        "def download_and_extract(url, dest_folder):\n",
        "    filename = os.path.join(dest_folder, url.split(\"/\")[-1])\n",
        "    if not os.path.exists(filename):\n",
        "        print(f\"Downloading {filename}...\")\n",
        "        response = requests.get(url, stream=True)\n",
        "        total_size = int(response.headers.get('content-length', 0))\n",
        "        with open(filename, 'wb') as file, tqdm(\n",
        "            desc=filename,\n",
        "            total=total_size,\n",
        "            unit='B',\n",
        "            unit_scale=True,\n",
        "            unit_divisor=1024,\n",
        "        ) as bar:\n",
        "            for data in response.iter_content(chunk_size=1024):\n",
        "                bar.update(len(data))\n",
        "                file.write(data)\n",
        "\n",
        "    # Extract file\n",
        "    print(f\"Extracting {filename}...\")\n",
        "    with zipfile.ZipFile(filename, 'r') as zip_ref:\n",
        "        zip_ref.extractall(dest_folder)\n",
        "\n",
        "# Download and extract data\n",
        "for name, url in urls.items():\n",
        "    download_and_extract(url, base_dir)\n",
        "\n",
        "# Load YOLOv5 model\n",
        "def load_yolov5_model():\n",
        "    return torch.hub.load('ultralytics/yolov5', 'yolov5s')\n",
        "\n",
        "# Load Mask R-CNN model\n",
        "def load_mask_rcnn_model():\n",
        "    model = maskrcnn_resnet50_fpn(pretrained=True)\n",
        "    model.eval()\n",
        "    return model\n",
        "\n",
        "# COCO dataset initialization\n",
        "def initialize_coco_dataset(dataset_path, annotation_file):\n",
        "    coco = COCO(annotation_file)\n",
        "    image_ids = coco.getImgIds()\n",
        "    images = coco.loadImgs(image_ids)\n",
        "    return coco, images\n",
        "\n",
        "# Count people based on bounding box overlap\n",
        "def count_people(bboxes):\n",
        "    count = 0\n",
        "    for i, bbox1 in enumerate(bboxes):\n",
        "        overlap = False\n",
        "        for j, bbox2 in enumerate(bboxes):\n",
        "            if i != j and calculate_iou(bbox1, bbox2) > 0.5:\n",
        "                overlap = True\n",
        "                break\n",
        "        if not overlap:\n",
        "            count += 1\n",
        "    return count\n",
        "\n",
        "# IOU calculation\n",
        "def calculate_iou(box1, box2):\n",
        "    x1, y1, w1, h1 = box1\n",
        "    x2, y2, w2, h2 = box2\n",
        "\n",
        "    xa = max(x1, x2)\n",
        "    ya = max(y1, y2)\n",
        "    xb = min(x1 + w1, x2 + w2)\n",
        "    yb = min(y1 + h1, y2 + h2)\n",
        "\n",
        "    inter_area = max(0, xb - xa) * max(0, yb - ya)\n",
        "    box1_area = w1 * h1\n",
        "    box2_area = w2 * h2\n",
        "\n",
        "    iou = inter_area / (box1_area + box2_area - inter_area)\n",
        "    return iou\n",
        "\n",
        "# Randomly select images\n",
        "def select_random_images(images, num_images=6):\n",
        "    return random.sample(images, num_images)\n",
        "\n",
        "# GUI for displaying images and counts\n",
        "class PeopleCountingApp:\n",
        "    def __init__(self, root, coco, images, yolov5_model, mask_rcnn_model, dataset_path):\n",
        "        self.root = root\n",
        "        self.coco = coco\n",
        "        self.images = images\n",
        "        self.yolov5_model = yolov5_model\n",
        "        self.mask_rcnn_model = mask_rcnn_model\n",
        "        self.dataset_path = dataset_path\n",
        "        self.image_labels = []\n",
        "\n",
        "        self.setup_ui()\n",
        "\n",
        "    def setup_ui(self):\n",
        "        self.label = Label(self.root, text=\"People Counting System\")\n",
        "        self.label.pack()\n",
        "\n",
        "        self.select_button = Button(self.root, text=\"Select Random Images\", command=self.show_random_images)\n",
        "        self.select_button.pack()\n",
        "\n",
        "    def show_random_images(self):\n",
        "        # Clear existing labels\n",
        "        for label in self.image_labels:\n",
        "            label.destroy()\n",
        "        self.image_labels = []\n",
        "\n",
        "        # Select random images\n",
        "        selected_images = select_random_images(self.images)\n",
        "\n",
        "        for img_info in selected_images:\n",
        "            img_path = os.path.join(self.dataset_path, img_info['file_name'])\n",
        "            image = Image.open(img_path)\n",
        "            count, modified_image = self.process_image(img_path)\n",
        "\n",
        "            # Resize for display\n",
        "            modified_image_pil = Image.fromarray(modified_image)\n",
        "            modified_image_pil = modified_image_pil.resize((300, 300))\n",
        "            photo = ImageTk.PhotoImage(modified_image_pil)\n",
        "\n",
        "            img_label = Label(self.root, image=photo)\n",
        "            img_label.photo = photo  # Keep reference\n",
        "            img_label.pack()\n",
        "\n",
        "            count_label = Label(self.root, text=f\"People Count: {count}\")\n",
        "            count_label.pack()\n",
        "\n",
        "            self.image_labels.append(img_label)\n",
        "            self.image_labels.append(count_label)\n",
        "\n",
        "    def process_image(self, img_path):\n",
        "        image = cv2.imread(img_path)\n",
        "        image_rgb = cv2.cvtColor(image, cv2.COLOR_BGR2RGB)\n",
        "        image_tensor = ToTensor()(image_rgb).unsqueeze(0)\n",
        "\n",
        "        # YOLOv5 detection\n",
        "        yolov5_results = self.yolov5_model(image)\n",
        "        yolo_bboxes = [x[:4] for x in yolov5_results.xyxy[0].cpu().numpy() if int(x[-1]) == 0]  # Class 0: Person\n",
        "\n",
        "        # Mask R-CNN detection\n",
        "        mask_rcnn_results = self.mask_rcnn_model(image_tensor)[0]\n",
        "        mask_rcnn_bboxes = mask_rcnn_results['boxes'][mask_rcnn_results['labels'] == 1].detach().cpu().numpy()\n",
        "\n",
        "        # Combine results and count\n",
        "        combined_bboxes = list(yolo_bboxes) + list(mask_rcnn_bboxes)\n",
        "\n",
        "        # Draw bounding boxes on the image\n",
        "        for bbox in combined_bboxes:\n",
        "            x1, y1, x2, y2 = bbox\n",
        "            cv2.rectangle(image, (int(x1), int(y1)), (int(x2), int(y2)), (0, 255, 0), 2)\n",
        "\n",
        "        # Return count and modified image with bounding boxes\n",
        "        count = count_people(combined_bboxes)\n",
        "        return count, image\n",
        "\n",
        "# Load models and dataset\n",
        "dataset_path = '/content/'\n",
        "annotation_file = '/content/instances_val2017.json'\n",
        "\n",
        "coco, images = initialize_coco_dataset(dataset_path, annotation_file)\n",
        "yolov5_model = load_yolov5_model()\n",
        "mask_rcnn_model = load_mask_rcnn_model()\n",
        "\n",
        "# Gradio Interface\n",
        "iface = gr.Interface(fn=PeopleCountingApp, inputs=\"image\", outputs=\"text\", title=\"People Counting App\")\n",
        "iface.launch()\n",
        "\n"
      ],
      "metadata": {
        "colab": {
          "base_uri": "https://localhost:8080/",
          "height": 851
        },
        "id": "SJtlmb4zS2eo",
        "outputId": "90bf5d5b-1deb-4f72-99fe-1d9b44422827"
      },
      "execution_count": 2,
      "outputs": [
        {
          "output_type": "stream",
          "name": "stdout",
          "text": [
            "Extracting C:\\Users\\josep\\COCO/train2017.zip...\n",
            "Extracting C:\\Users\\josep\\COCO/val2017.zip...\n",
            "Extracting C:\\Users\\josep\\COCO/annotations_trainval2017.zip...\n",
            "loading annotations into memory...\n",
            "Done (t=0.85s)\n",
            "creating index...\n",
            "index created!\n"
          ]
        },
        {
          "output_type": "stream",
          "name": "stderr",
          "text": [
            "Using cache found in /root/.cache/torch/hub/ultralytics_yolov5_master\n",
            "YOLOv5 🚀 2024-12-4 Python-3.10.12 torch-2.5.1+cu121 CPU\n",
            "\n",
            "Fusing layers... \n",
            "YOLOv5s summary: 213 layers, 7225885 parameters, 0 gradients, 16.4 GFLOPs\n",
            "Adding AutoShape... \n"
          ]
        },
        {
          "output_type": "stream",
          "name": "stdout",
          "text": [
            "Running Gradio in a Colab notebook requires sharing enabled. Automatically setting `share=True` (you can turn this off by setting `share=False` in `launch()` explicitly).\n",
            "\n",
            "Colab notebook detected. To show errors in colab notebook, set debug=True in launch()\n",
            "* Running on public URL: https://cfde6fa328fa9c66f3.gradio.live\n",
            "\n",
            "This share link expires in 72 hours. For free permanent hosting and GPU upgrades, run `gradio deploy` from the terminal in the working directory to deploy to Hugging Face Spaces (https://huggingface.co/spaces)\n"
          ]
        },
        {
          "output_type": "display_data",
          "data": {
            "text/plain": [
              "<IPython.core.display.HTML object>"
            ],
            "text/html": [
              "<div><iframe src=\"https://cfde6fa328fa9c66f3.gradio.live\" width=\"100%\" height=\"500\" allow=\"autoplay; camera; microphone; clipboard-read; clipboard-write;\" frameborder=\"0\" allowfullscreen></iframe></div>"
            ]
          },
          "metadata": {}
        },
        {
          "output_type": "execute_result",
          "data": {
            "text/plain": []
          },
          "metadata": {},
          "execution_count": 2
        }
      ]
    },
    {
      "cell_type": "code",
      "source": [],
      "metadata": {
        "id": "mfA_dv8yeHtp"
      },
      "execution_count": null,
      "outputs": []
    },
    {
      "cell_type": "code",
      "source": [],
      "metadata": {
        "id": "dLFOKtwjeHqL"
      },
      "execution_count": null,
      "outputs": []
    },
    {
      "cell_type": "code",
      "source": [],
      "metadata": {
        "id": "RGkPJ_u3eHm_"
      },
      "execution_count": null,
      "outputs": []
    },
    {
      "cell_type": "code",
      "source": [],
      "metadata": {
        "id": "U-NPcHIWeHhD"
      },
      "execution_count": null,
      "outputs": []
    },
    {
      "cell_type": "code",
      "source": [],
      "metadata": {
        "id": "FzhYBGPheHcV"
      },
      "execution_count": null,
      "outputs": []
    },
    {
      "cell_type": "code",
      "source": [],
      "metadata": {
        "id": "rsxiZXhUeHWv"
      },
      "execution_count": null,
      "outputs": []
    },
    {
      "cell_type": "code",
      "source": [
        "import os\n",
        "import random\n",
        "import torch\n",
        "import cv2\n",
        "from torchvision.transforms import ToTensor\n",
        "from PIL import Image, ImageTk\n",
        "import numpy as np\n",
        "from pycocotools.coco import COCO\n",
        "from torchvision.models.detection import maskrcnn_resnet50_fpn\n",
        "import requests\n",
        "import zipfile\n",
        "import gradio as gr\n",
        "\n",
        "# Set the base directory where the dataset will be downloaded\n",
        "base_dir = r\"C:\\Users\\josep\\COCO\"\n",
        "\n",
        "# URLs for the COCO 2017 dataset\n",
        "urls = {\n",
        "    \"train2017\": \"http://images.cocodataset.org/zips/train2017.zip\",\n",
        "    \"val2017\": \"http://images.cocodataset.org/zips/val2017.zip\",\n",
        "    \"annotations\": \"http://images.cocodataset.org/annotations/annotations_trainval2017.zip\"\n",
        "}\n",
        "\n",
        "# Create the directory if it doesn't exist\n",
        "os.makedirs(base_dir, exist_ok=True)\n",
        "\n",
        "# Function to download and extract dataset\n",
        "def download_and_extract(url, dest_folder):\n",
        "    filename = os.path.join(dest_folder, url.split(\"/\")[-1])\n",
        "    if not os.path.exists(filename):\n",
        "        print(f\"Downloading {filename}...\")\n",
        "        response = requests.get(url, stream=True)\n",
        "        total_size = int(response.headers.get('content-length', 0))\n",
        "        with open(filename, 'wb') as file, tqdm(\n",
        "            desc=filename,\n",
        "            total=total_size,\n",
        "            unit='B',\n",
        "            unit_scale=True,\n",
        "            unit_divisor=1024,\n",
        "        ) as bar:\n",
        "            for data in response.iter_content(chunk_size=1024):\n",
        "                bar.update(len(data))\n",
        "                file.write(data)\n",
        "\n",
        "    # Extract file\n",
        "    print(f\"Extracting {filename}...\")\n",
        "    with zipfile.ZipFile(filename, 'r') as zip_ref:\n",
        "        zip_ref.extractall(dest_folder)\n",
        "\n",
        "# Download and extract data\n",
        "for name, url in urls.items():\n",
        "    download_and_extract(url, base_dir)\n",
        "\n",
        "# Load YOLOv5 model\n",
        "def load_yolov5_model():\n",
        "    return torch.hub.load('ultralytics/yolov5', 'yolov5s')\n",
        "\n",
        "# Load Mask R-CNN model\n",
        "def load_mask_rcnn_model():\n",
        "    model = maskrcnn_resnet50_fpn(pretrained=True)\n",
        "    model.eval()\n",
        "    return model\n",
        "\n",
        "# Count people based on bounding box overlap\n",
        "def count_people(bboxes):\n",
        "    count = 0\n",
        "    for i, bbox1 in enumerate(bboxes):\n",
        "        overlap = False\n",
        "        for j, bbox2 in enumerate(bboxes):\n",
        "            if i != j and calculate_iou(bbox1, bbox2) > 0.5:\n",
        "                overlap = True\n",
        "                break\n",
        "        if not overlap:\n",
        "            count += 1\n",
        "    return count\n",
        "\n",
        "# IOU calculation\n",
        "def calculate_iou(box1, box2):\n",
        "    x1, y1, w1, h1 = box1\n",
        "    x2, y2, w2, h2 = box2\n",
        "\n",
        "    xa = max(x1, x2)\n",
        "    ya = max(y1, y2)\n",
        "    xb = min(x1 + w1, x2 + w2)\n",
        "    yb = min(y1 + h1, y2 + h2)\n",
        "\n",
        "    inter_area = max(0, xb - xa) * max(0, yb - ya)\n",
        "    box1_area = w1 * h1\n",
        "    box2_area = w2 * h2\n",
        "\n",
        "    iou = inter_area / (box1_area + box2_area - inter_area)\n",
        "    return iou\n",
        "\n",
        "# Randomly select images\n",
        "def select_random_images(images, num_images=6):\n",
        "    return random.sample(images, num_images)\n",
        "\n",
        "# Function to process image and return count and modified image\n",
        "def process_image(img_path, yolov5_model, mask_rcnn_model):\n",
        "    image = cv2.imread(img_path)\n",
        "    image_rgb = cv2.cvtColor(image, cv2.COLOR_BGR2RGB)\n",
        "    image_tensor = ToTensor()(image_rgb).unsqueeze(0)\n",
        "\n",
        "    # YOLOv5 detection\n",
        "    yolov5_results = yolov5_model(image)\n",
        "    yolo_bboxes = [x[:4] for x in yolov5_results.xyxy[0].cpu().numpy() if int(x[-1]) == 0]  # Class 0: Person\n",
        "\n",
        "    # Mask R-CNN detection\n",
        "    mask_rcnn_results = mask_rcnn_model(image_tensor)[0]\n",
        "    mask_rcnn_bboxes = mask_rcnn_results['boxes'][mask_rcnn_results['labels'] == 1].detach().cpu().numpy()\n",
        "\n",
        "    # Combine results and count\n",
        "    combined_bboxes = list(yolo_bboxes) + list(mask_rcnn_bboxes)\n",
        "\n",
        "    # Draw bounding boxes on the image\n",
        "    for bbox in combined_bboxes:\n",
        "        x1, y1, x2, y2 = bbox\n",
        "        cv2.rectangle(image, (int(x1), int(y1)), (int(x2), int(y2)), (0, 255, 0), 2)\n",
        "\n",
        "    # Return count and modified image with bounding boxes\n",
        "    count = count_people(combined_bboxes)\n",
        "    return count, cv2.cvtColor(image, cv2.COLOR_BGR2RGB)\n",
        "\n",
        "# Gradio function to process and return image and text\n",
        "def gradio_interface(img):\n",
        "    count, modified_image = process_image(img.name, yolov5_model, mask_rcnn_model)\n",
        "    modified_image_pil = Image.fromarray(modified_image)\n",
        "    return modified_image_pil, f\"People Count: {count}\"\n",
        "\n",
        "# Load models\n",
        "yolov5_model = load_yolov5_model()\n",
        "mask_rcnn_model = load_mask_rcnn_model()\n",
        "\n",
        "# Gradio Interface\n",
        "iface = gr.Interface(fn=gradio_interface, inputs=\"image\", outputs=[\"image\", \"text\"], title=\"People Counting App\")\n",
        "iface.launch()"
      ],
      "metadata": {
        "colab": {
          "base_uri": "https://localhost:8080/",
          "height": 781
        },
        "id": "bR3JE65keHJ1",
        "outputId": "4bd75d5c-9d56-47cb-a441-5756409dcb76"
      },
      "execution_count": 2,
      "outputs": [
        {
          "output_type": "stream",
          "name": "stdout",
          "text": [
            "Extracting C:\\Users\\josep\\COCO/train2017.zip...\n",
            "Extracting C:\\Users\\josep\\COCO/val2017.zip...\n",
            "Extracting C:\\Users\\josep\\COCO/annotations_trainval2017.zip...\n"
          ]
        },
        {
          "output_type": "stream",
          "name": "stderr",
          "text": [
            "Using cache found in /root/.cache/torch/hub/ultralytics_yolov5_master\n",
            "YOLOv5 🚀 2024-12-4 Python-3.10.12 torch-2.5.1+cu121 CPU\n",
            "\n",
            "Fusing layers... \n",
            "YOLOv5s summary: 213 layers, 7225885 parameters, 0 gradients, 16.4 GFLOPs\n",
            "Adding AutoShape... \n"
          ]
        },
        {
          "output_type": "stream",
          "name": "stdout",
          "text": [
            "Running Gradio in a Colab notebook requires sharing enabled. Automatically setting `share=True` (you can turn this off by setting `share=False` in `launch()` explicitly).\n",
            "\n",
            "Colab notebook detected. To show errors in colab notebook, set debug=True in launch()\n",
            "* Running on public URL: https://293ba75a5e30575d20.gradio.live\n",
            "\n",
            "This share link expires in 72 hours. For free permanent hosting and GPU upgrades, run `gradio deploy` from the terminal in the working directory to deploy to Hugging Face Spaces (https://huggingface.co/spaces)\n"
          ]
        },
        {
          "output_type": "display_data",
          "data": {
            "text/plain": [
              "<IPython.core.display.HTML object>"
            ],
            "text/html": [
              "<div><iframe src=\"https://293ba75a5e30575d20.gradio.live\" width=\"100%\" height=\"500\" allow=\"autoplay; camera; microphone; clipboard-read; clipboard-write;\" frameborder=\"0\" allowfullscreen></iframe></div>"
            ]
          },
          "metadata": {}
        },
        {
          "output_type": "execute_result",
          "data": {
            "text/plain": []
          },
          "metadata": {},
          "execution_count": 2
        }
      ]
    },
    {
      "cell_type": "code",
      "source": [],
      "metadata": {
        "id": "yp6pGkNthusw"
      },
      "execution_count": null,
      "outputs": []
    },
    {
      "cell_type": "code",
      "source": [],
      "metadata": {
        "id": "2sJCgnS0huqE"
      },
      "execution_count": null,
      "outputs": []
    },
    {
      "cell_type": "code",
      "source": [],
      "metadata": {
        "id": "tQvF3qpVhumU"
      },
      "execution_count": null,
      "outputs": []
    },
    {
      "cell_type": "code",
      "source": [],
      "metadata": {
        "id": "_-zA31Fjhuj0"
      },
      "execution_count": null,
      "outputs": []
    },
    {
      "cell_type": "code",
      "source": [],
      "metadata": {
        "id": "TZMl5SrDhuhZ"
      },
      "execution_count": null,
      "outputs": []
    },
    {
      "cell_type": "code",
      "source": [],
      "metadata": {
        "id": "g2lMNpnmhudB"
      },
      "execution_count": null,
      "outputs": []
    },
    {
      "cell_type": "code",
      "source": [],
      "metadata": {
        "id": "ZEeXysYUhuad"
      },
      "execution_count": null,
      "outputs": []
    },
    {
      "cell_type": "code",
      "source": [],
      "metadata": {
        "id": "Cym2HaHThuWS"
      },
      "execution_count": null,
      "outputs": []
    },
    {
      "cell_type": "code",
      "source": [],
      "metadata": {
        "id": "8-aSNr2FhuTi"
      },
      "execution_count": null,
      "outputs": []
    },
    {
      "cell_type": "code",
      "source": [],
      "metadata": {
        "id": "ufQLVpF3huPq"
      },
      "execution_count": null,
      "outputs": []
    },
    {
      "cell_type": "code",
      "source": [],
      "metadata": {
        "id": "nOgQhd4jhuMS"
      },
      "execution_count": null,
      "outputs": []
    },
    {
      "cell_type": "code",
      "source": [],
      "metadata": {
        "id": "KcH7HkPXhuHt"
      },
      "execution_count": null,
      "outputs": []
    },
    {
      "cell_type": "code",
      "source": [
        "import os\n",
        "import random\n",
        "import torch\n",
        "import cv2\n",
        "from torchvision.transforms import ToTensor\n",
        "from PIL import Image, ImageTk\n",
        "import numpy as np\n",
        "from pycocotools.coco import COCO\n",
        "from torchvision.models.detection import maskrcnn_resnet50_fpn\n",
        "import requests\n",
        "import zipfile\n",
        "import gradio as gr\n",
        "\n",
        "# Set the base directory where the dataset will be downloaded\n",
        "base_dir = r\"C:\\Users\\josep\\COCO\"\n",
        "\n",
        "# URLs for the COCO 2017 dataset\n",
        "urls = {\n",
        "    \"train2017\": \"http://images.cocodataset.org/zips/train2017.zip\",\n",
        "    \"val2017\": \"http://images.cocodataset.org/zips/val2017.zip\",\n",
        "    \"annotations\": \"http://images.cocodataset.org/annotations/annotations_trainval2017.zip\"\n",
        "}\n",
        "\n",
        "# Create the directory if it doesn't exist\n",
        "os.makedirs(base_dir, exist_ok=True)\n",
        "\n",
        "# Function to download and extract dataset\n",
        "def download_and_extract(url, dest_folder):\n",
        "    filename = os.path.join(dest_folder, url.split(\"/\")[-1])\n",
        "    if not os.path.exists(filename):\n",
        "        print(f\"Downloading {filename}...\")\n",
        "        response = requests.get(url, stream=True)\n",
        "        total_size = int(response.headers.get('content-length', 0))\n",
        "        with open(filename, 'wb') as file, tqdm(\n",
        "            desc=filename,\n",
        "            total=total_size,\n",
        "            unit='B',\n",
        "            unit_scale=True,\n",
        "            unit_divisor=1024,\n",
        "        ) as bar:\n",
        "            for data in response.iter_content(chunk_size=1024):\n",
        "                bar.update(len(data))\n",
        "                file.write(data)\n",
        "\n",
        "    # Extract file\n",
        "    print(f\"Extracting {filename}...\")\n",
        "    with zipfile.ZipFile(filename, 'r') as zip_ref:\n",
        "        zip_ref.extractall(dest_folder)\n",
        "\n",
        "# Download and extract data\n",
        "for name, url in urls.items():\n",
        "    download_and_extract(url, base_dir)\n",
        "\n",
        "# Load YOLOv5 model\n",
        "def load_yolov5_model():\n",
        "    return torch.hub.load('ultralytics/yolov5', 'yolov5s')\n",
        "\n",
        "# Load Mask R-CNN model\n",
        "def load_mask_rcnn_model():\n",
        "    model = maskrcnn_resnet50_fpn(pretrained=True)\n",
        "    model.eval()\n",
        "    return model\n",
        "\n",
        "# Count people based on bounding box overlap\n",
        "def count_people(bboxes):\n",
        "    count = 0\n",
        "    for i, bbox1 in enumerate(bboxes):\n",
        "        overlap = False\n",
        "        for j, bbox2 in enumerate(bboxes):\n",
        "            if i != j and calculate_iou(bbox1, bbox2) > 0.5:\n",
        "                overlap = True\n",
        "                break\n",
        "        if not overlap:\n",
        "            count += 1\n",
        "    return count\n",
        "\n",
        "# IOU calculation\n",
        "def calculate_iou(box1, box2):\n",
        "    x1, y1, w1, h1 = box1\n",
        "    x2, y2, w2, h2 = box2\n",
        "\n",
        "    xa = max(x1, x2)\n",
        "    ya = max(y1, y2)\n",
        "    xb = min(x1 + w1, x2 + w2)\n",
        "    yb = min(y1 + h1, y2 + h2)\n",
        "\n",
        "    inter_area = max(0, xb - xa) * max(0, yb - ya)\n",
        "    box1_area = w1 * h1\n",
        "    box2_area = w2 * h2\n",
        "\n",
        "    iou = inter_area / (box1_area + box2_area - inter_area)\n",
        "    return iou\n",
        "\n",
        "# Function to process image and return count and modified image\n",
        "def process_image(img_path):\n",
        "    # Load the image\n",
        "    image = cv2.imread(img_path)\n",
        "    image_rgb = cv2.cvtColor(image, cv2.COLOR_BGR2RGB)\n",
        "\n",
        "    # YOLOv5 Detection\n",
        "    yolov5_results = yolov5_model(image)\n",
        "    yolov5_bboxes = [list(map(int, x[:4])) for x in yolov5_results.xyxy[0].cpu().numpy() if int(x[-1]) == 0]\n",
        "\n",
        "    # Mask R-CNN Detection\n",
        "    image_tensor = ToTensor()(image_rgb).unsqueeze(0)\n",
        "    mask_rcnn_results = mask_rcnn_model(image_tensor)[0]\n",
        "    mask_rcnn_bboxes = mask_rcnn_results['boxes'][mask_rcnn_results['labels'] == 1].detach().cpu().numpy()\n",
        "\n",
        "    # Combine all bounding boxes\n",
        "    combined_bboxes = yolov5_bboxes + mask_rcnn_bboxes.tolist()\n",
        "\n",
        "    # Draw bounding boxes\n",
        "    for bbox in combined_bboxes:\n",
        "        x1, y1, x2, y2 = map(int, bbox)\n",
        "        cv2.rectangle(image, (x1, y1), (x2, y2), (0, 255, 0), 2)  # Green box with 2-pixel thickness\n",
        "\n",
        "    # Count people\n",
        "    count = count_people(combined_bboxes)\n",
        "\n",
        "    # Convert to PIL format for Gradio\n",
        "    marked_image = Image.fromarray(cv2.cvtColor(image, cv2.COLOR_BGR2RGB))\n",
        "    return count, marked_image\n",
        "\n",
        "# Gradio function to process and return image and text\n",
        "def gradio_interface(img_array):\n",
        "    try:\n",
        "        # Convert NumPy array to OpenCV format\n",
        "        img_cv2 = cv2.cvtColor(img_array, cv2.COLOR_RGB2BGR)\n",
        "\n",
        "        # Save temporary image to process it\n",
        "        temp_path = \"temp_image.jpg\"\n",
        "        cv2.imwrite(temp_path, img_cv2)\n",
        "\n",
        "        # Process the image\n",
        "        count, marked_image = process_image(temp_path)\n",
        "        return marked_image, f\"People Count: {count}\"\n",
        "    except Exception as e:\n",
        "        print(f\"Error: {e}\")\n",
        "        return None, f\"Error: {e}\"\n",
        "\n",
        "\n",
        "# Load models\n",
        "yolov5_model = load_yolov5_model()\n",
        "mask_rcnn_model = load_mask_rcnn_model()\n",
        "\n",
        "# Gradio Interface\n",
        "iface = gr.Interface(\n",
        "    fn=gradio_interface,\n",
        "    inputs=\"image\",  # Gradio automatically passes NumPy array\n",
        "    outputs=[\"image\", \"text\"],\n",
        "    title=\"People Counting App with Bounding Boxes\"\n",
        ")\n",
        "iface.launch()"
      ],
      "metadata": {
        "colab": {
          "base_uri": "https://localhost:8080/",
          "height": 781
        },
        "id": "w_faWpTHht4_",
        "outputId": "738e41e4-cd94-4544-8702-ca45649426e2"
      },
      "execution_count": 2,
      "outputs": [
        {
          "output_type": "stream",
          "name": "stdout",
          "text": [
            "Extracting C:\\Users\\josep\\COCO/train2017.zip...\n",
            "Extracting C:\\Users\\josep\\COCO/val2017.zip...\n",
            "Extracting C:\\Users\\josep\\COCO/annotations_trainval2017.zip...\n"
          ]
        },
        {
          "output_type": "stream",
          "name": "stderr",
          "text": [
            "Using cache found in /root/.cache/torch/hub/ultralytics_yolov5_master\n",
            "YOLOv5 🚀 2024-12-4 Python-3.10.12 torch-2.5.1+cu121 CPU\n",
            "\n",
            "Fusing layers... \n",
            "YOLOv5s summary: 213 layers, 7225885 parameters, 0 gradients, 16.4 GFLOPs\n",
            "Adding AutoShape... \n"
          ]
        },
        {
          "output_type": "stream",
          "name": "stdout",
          "text": [
            "Running Gradio in a Colab notebook requires sharing enabled. Automatically setting `share=True` (you can turn this off by setting `share=False` in `launch()` explicitly).\n",
            "\n",
            "Colab notebook detected. To show errors in colab notebook, set debug=True in launch()\n",
            "* Running on public URL: https://7d28fb3cb6b90eab31.gradio.live\n",
            "\n",
            "This share link expires in 72 hours. For free permanent hosting and GPU upgrades, run `gradio deploy` from the terminal in the working directory to deploy to Hugging Face Spaces (https://huggingface.co/spaces)\n"
          ]
        },
        {
          "output_type": "display_data",
          "data": {
            "text/plain": [
              "<IPython.core.display.HTML object>"
            ],
            "text/html": [
              "<div><iframe src=\"https://7d28fb3cb6b90eab31.gradio.live\" width=\"100%\" height=\"500\" allow=\"autoplay; camera; microphone; clipboard-read; clipboard-write;\" frameborder=\"0\" allowfullscreen></iframe></div>"
            ]
          },
          "metadata": {}
        },
        {
          "output_type": "execute_result",
          "data": {
            "text/plain": []
          },
          "metadata": {},
          "execution_count": 2
        }
      ]
    },
    {
      "cell_type": "markdown",
      "source": [
        "Above code runs with boxes but under counts."
      ],
      "metadata": {
        "id": "wC8lilQr0ROq"
      }
    },
    {
      "cell_type": "code",
      "source": [],
      "metadata": {
        "id": "mkTUhtfv0Puw"
      },
      "execution_count": null,
      "outputs": []
    },
    {
      "cell_type": "code",
      "source": [],
      "metadata": {
        "id": "yKIAFABS0pLk"
      },
      "execution_count": null,
      "outputs": []
    },
    {
      "cell_type": "code",
      "source": [],
      "metadata": {
        "id": "hJHLGEgg0pIW"
      },
      "execution_count": null,
      "outputs": []
    },
    {
      "cell_type": "code",
      "source": [],
      "metadata": {
        "id": "xzR84Kbj0pFN"
      },
      "execution_count": null,
      "outputs": []
    },
    {
      "cell_type": "code",
      "source": [],
      "metadata": {
        "id": "INvb7WbX0pCO"
      },
      "execution_count": null,
      "outputs": []
    },
    {
      "cell_type": "code",
      "source": [],
      "metadata": {
        "id": "gBvucORw0o-9"
      },
      "execution_count": null,
      "outputs": []
    },
    {
      "cell_type": "code",
      "source": [],
      "metadata": {
        "id": "y5Ll97360o7z"
      },
      "execution_count": null,
      "outputs": []
    },
    {
      "cell_type": "code",
      "source": [],
      "metadata": {
        "id": "vV-6XQHU0o45"
      },
      "execution_count": null,
      "outputs": []
    },
    {
      "cell_type": "code",
      "source": [],
      "metadata": {
        "id": "MV_di9Pl0o1u"
      },
      "execution_count": null,
      "outputs": []
    },
    {
      "cell_type": "code",
      "source": [],
      "metadata": {
        "id": "f9b4AYKi0ozT"
      },
      "execution_count": null,
      "outputs": []
    },
    {
      "cell_type": "code",
      "source": [],
      "metadata": {
        "id": "KuZfj5P00ouC"
      },
      "execution_count": null,
      "outputs": []
    },
    {
      "cell_type": "code",
      "source": [],
      "metadata": {
        "id": "YFYpoAsN6Bjr"
      },
      "execution_count": null,
      "outputs": []
    },
    {
      "cell_type": "code",
      "source": [],
      "metadata": {
        "id": "Z3DgHm086Dts"
      },
      "execution_count": null,
      "outputs": []
    },
    {
      "cell_type": "code",
      "source": [],
      "metadata": {
        "id": "Fu6LX5XB6Dog"
      },
      "execution_count": null,
      "outputs": []
    },
    {
      "cell_type": "code",
      "source": [],
      "metadata": {
        "id": "LBj-WJgS6Djg"
      },
      "execution_count": null,
      "outputs": []
    },
    {
      "cell_type": "code",
      "source": [],
      "metadata": {
        "id": "CwLsmG396Dfu"
      },
      "execution_count": null,
      "outputs": []
    },
    {
      "cell_type": "code",
      "source": [],
      "metadata": {
        "id": "COhOKqyS6DcF"
      },
      "execution_count": null,
      "outputs": []
    },
    {
      "cell_type": "code",
      "source": [],
      "metadata": {
        "id": "J66PPD0S6DYs"
      },
      "execution_count": null,
      "outputs": []
    },
    {
      "cell_type": "code",
      "source": [],
      "metadata": {
        "id": "E1LoL1qs6DVO"
      },
      "execution_count": null,
      "outputs": []
    },
    {
      "cell_type": "code",
      "source": [],
      "metadata": {
        "id": "XMkY-jlB6DRn"
      },
      "execution_count": null,
      "outputs": []
    },
    {
      "cell_type": "code",
      "source": [],
      "metadata": {
        "id": "lO6KIcik6DOT"
      },
      "execution_count": null,
      "outputs": []
    },
    {
      "cell_type": "code",
      "source": [],
      "metadata": {
        "id": "bUd2Zase6DK-"
      },
      "execution_count": null,
      "outputs": []
    },
    {
      "cell_type": "code",
      "source": [],
      "metadata": {
        "id": "99u_EC5A6DHu"
      },
      "execution_count": null,
      "outputs": []
    },
    {
      "cell_type": "code",
      "source": [],
      "metadata": {
        "id": "UnRx8wqy6DE2"
      },
      "execution_count": null,
      "outputs": []
    },
    {
      "cell_type": "code",
      "source": [],
      "metadata": {
        "id": "aWsuP4wj6C-2"
      },
      "execution_count": null,
      "outputs": []
    },
    {
      "cell_type": "code",
      "source": [],
      "metadata": {
        "id": "HgSwkPMA6C7v"
      },
      "execution_count": null,
      "outputs": []
    },
    {
      "cell_type": "code",
      "source": [],
      "metadata": {
        "id": "qmCL3ZCl6C1w"
      },
      "execution_count": null,
      "outputs": []
    }
  ]
}