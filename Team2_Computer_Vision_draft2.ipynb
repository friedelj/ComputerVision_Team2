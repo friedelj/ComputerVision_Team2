{
  "nbformat": 4,
  "nbformat_minor": 0,
  "metadata": {
    "colab": {
      "provenance": [],
      "authorship_tag": "ABX9TyOYLLQ3CtU9H4bUvYwQojfk",
      "include_colab_link": true
    },
    "kernelspec": {
      "name": "python3",
      "display_name": "Python 3"
    },
    "language_info": {
      "name": "python"
    }
  },
  "cells": [
    {
      "cell_type": "markdown",
      "metadata": {
        "id": "view-in-github",
        "colab_type": "text"
      },
      "source": [
        "<a href=\"https://colab.research.google.com/github/friedelj/ComputerVision_Team2/blob/main/Team2_Computer_Vision_draft2.ipynb\" target=\"_parent\"><img src=\"https://colab.research.google.com/assets/colab-badge.svg\" alt=\"Open In Colab\"/></a>"
      ]
    },
    {
      "cell_type": "code",
      "source": [
        "!pip install gradio"
      ],
      "metadata": {
        "colab": {
          "base_uri": "https://localhost:8080/"
        },
        "id": "yMaFanxpZzWJ",
        "outputId": "0709c1e3-3d6c-40bd-8042-80fda9025c6b"
      },
      "execution_count": 14,
      "outputs": [
        {
          "output_type": "stream",
          "name": "stdout",
          "text": [
            "Collecting gradio\n",
            "  Downloading gradio-5.7.1-py3-none-any.whl.metadata (16 kB)\n",
            "Collecting aiofiles<24.0,>=22.0 (from gradio)\n",
            "  Downloading aiofiles-23.2.1-py3-none-any.whl.metadata (9.7 kB)\n",
            "Requirement already satisfied: anyio<5.0,>=3.0 in /usr/local/lib/python3.10/dist-packages (from gradio) (3.7.1)\n",
            "Collecting fastapi<1.0,>=0.115.2 (from gradio)\n",
            "  Downloading fastapi-0.115.5-py3-none-any.whl.metadata (27 kB)\n",
            "Collecting ffmpy (from gradio)\n",
            "  Downloading ffmpy-0.4.0-py3-none-any.whl.metadata (2.9 kB)\n",
            "Collecting gradio-client==1.5.0 (from gradio)\n",
            "  Downloading gradio_client-1.5.0-py3-none-any.whl.metadata (7.1 kB)\n",
            "Requirement already satisfied: httpx>=0.24.1 in /usr/local/lib/python3.10/dist-packages (from gradio) (0.27.2)\n",
            "Requirement already satisfied: huggingface-hub>=0.25.1 in /usr/local/lib/python3.10/dist-packages (from gradio) (0.26.2)\n",
            "Requirement already satisfied: jinja2<4.0 in /usr/local/lib/python3.10/dist-packages (from gradio) (3.1.4)\n",
            "Collecting markupsafe~=2.0 (from gradio)\n",
            "  Downloading MarkupSafe-2.1.5-cp310-cp310-manylinux_2_17_x86_64.manylinux2014_x86_64.whl.metadata (3.0 kB)\n",
            "Requirement already satisfied: numpy<3.0,>=1.0 in /usr/local/lib/python3.10/dist-packages (from gradio) (1.26.4)\n",
            "Requirement already satisfied: orjson~=3.0 in /usr/local/lib/python3.10/dist-packages (from gradio) (3.10.11)\n",
            "Requirement already satisfied: packaging in /usr/local/lib/python3.10/dist-packages (from gradio) (24.2)\n",
            "Requirement already satisfied: pandas<3.0,>=1.0 in /usr/local/lib/python3.10/dist-packages (from gradio) (2.2.2)\n",
            "Requirement already satisfied: pillow<12.0,>=8.0 in /usr/local/lib/python3.10/dist-packages (from gradio) (11.0.0)\n",
            "Requirement already satisfied: pydantic>=2.0 in /usr/local/lib/python3.10/dist-packages (from gradio) (2.9.2)\n",
            "Collecting pydub (from gradio)\n",
            "  Downloading pydub-0.25.1-py2.py3-none-any.whl.metadata (1.4 kB)\n",
            "Collecting python-multipart==0.0.12 (from gradio)\n",
            "  Downloading python_multipart-0.0.12-py3-none-any.whl.metadata (1.9 kB)\n",
            "Requirement already satisfied: pyyaml<7.0,>=5.0 in /usr/local/lib/python3.10/dist-packages (from gradio) (6.0.2)\n",
            "Collecting ruff>=0.2.2 (from gradio)\n",
            "  Downloading ruff-0.8.1-py3-none-manylinux_2_17_x86_64.manylinux2014_x86_64.whl.metadata (25 kB)\n",
            "Collecting safehttpx<1.0,>=0.1.1 (from gradio)\n",
            "  Downloading safehttpx-0.1.1-py3-none-any.whl.metadata (4.1 kB)\n",
            "Collecting semantic-version~=2.0 (from gradio)\n",
            "  Downloading semantic_version-2.10.0-py2.py3-none-any.whl.metadata (9.7 kB)\n",
            "Collecting starlette<1.0,>=0.40.0 (from gradio)\n",
            "  Downloading starlette-0.41.3-py3-none-any.whl.metadata (6.0 kB)\n",
            "Collecting tomlkit==0.12.0 (from gradio)\n",
            "  Downloading tomlkit-0.12.0-py3-none-any.whl.metadata (2.7 kB)\n",
            "Requirement already satisfied: typer<1.0,>=0.12 in /usr/local/lib/python3.10/dist-packages (from gradio) (0.13.0)\n",
            "Requirement already satisfied: typing-extensions~=4.0 in /usr/local/lib/python3.10/dist-packages (from gradio) (4.12.2)\n",
            "Collecting uvicorn>=0.14.0 (from gradio)\n",
            "  Downloading uvicorn-0.32.1-py3-none-any.whl.metadata (6.6 kB)\n",
            "Requirement already satisfied: fsspec in /usr/local/lib/python3.10/dist-packages (from gradio-client==1.5.0->gradio) (2024.10.0)\n",
            "Collecting websockets<13.0,>=10.0 (from gradio-client==1.5.0->gradio)\n",
            "  Downloading websockets-12.0-cp310-cp310-manylinux_2_5_x86_64.manylinux1_x86_64.manylinux_2_17_x86_64.manylinux2014_x86_64.whl.metadata (6.6 kB)\n",
            "Requirement already satisfied: idna>=2.8 in /usr/local/lib/python3.10/dist-packages (from anyio<5.0,>=3.0->gradio) (3.10)\n",
            "Requirement already satisfied: sniffio>=1.1 in /usr/local/lib/python3.10/dist-packages (from anyio<5.0,>=3.0->gradio) (1.3.1)\n",
            "Requirement already satisfied: exceptiongroup in /usr/local/lib/python3.10/dist-packages (from anyio<5.0,>=3.0->gradio) (1.2.2)\n",
            "Requirement already satisfied: certifi in /usr/local/lib/python3.10/dist-packages (from httpx>=0.24.1->gradio) (2024.8.30)\n",
            "Requirement already satisfied: httpcore==1.* in /usr/local/lib/python3.10/dist-packages (from httpx>=0.24.1->gradio) (1.0.7)\n",
            "Requirement already satisfied: h11<0.15,>=0.13 in /usr/local/lib/python3.10/dist-packages (from httpcore==1.*->httpx>=0.24.1->gradio) (0.14.0)\n",
            "Requirement already satisfied: filelock in /usr/local/lib/python3.10/dist-packages (from huggingface-hub>=0.25.1->gradio) (3.16.1)\n",
            "Requirement already satisfied: requests in /usr/local/lib/python3.10/dist-packages (from huggingface-hub>=0.25.1->gradio) (2.32.3)\n",
            "Requirement already satisfied: tqdm>=4.42.1 in /usr/local/lib/python3.10/dist-packages (from huggingface-hub>=0.25.1->gradio) (4.66.6)\n",
            "Requirement already satisfied: python-dateutil>=2.8.2 in /usr/local/lib/python3.10/dist-packages (from pandas<3.0,>=1.0->gradio) (2.8.2)\n",
            "Requirement already satisfied: pytz>=2020.1 in /usr/local/lib/python3.10/dist-packages (from pandas<3.0,>=1.0->gradio) (2024.2)\n",
            "Requirement already satisfied: tzdata>=2022.7 in /usr/local/lib/python3.10/dist-packages (from pandas<3.0,>=1.0->gradio) (2024.2)\n",
            "Requirement already satisfied: annotated-types>=0.6.0 in /usr/local/lib/python3.10/dist-packages (from pydantic>=2.0->gradio) (0.7.0)\n",
            "Requirement already satisfied: pydantic-core==2.23.4 in /usr/local/lib/python3.10/dist-packages (from pydantic>=2.0->gradio) (2.23.4)\n",
            "Requirement already satisfied: click>=8.0.0 in /usr/local/lib/python3.10/dist-packages (from typer<1.0,>=0.12->gradio) (8.1.7)\n",
            "Requirement already satisfied: shellingham>=1.3.0 in /usr/local/lib/python3.10/dist-packages (from typer<1.0,>=0.12->gradio) (1.5.4)\n",
            "Requirement already satisfied: rich>=10.11.0 in /usr/local/lib/python3.10/dist-packages (from typer<1.0,>=0.12->gradio) (13.9.4)\n",
            "Requirement already satisfied: six>=1.5 in /usr/local/lib/python3.10/dist-packages (from python-dateutil>=2.8.2->pandas<3.0,>=1.0->gradio) (1.16.0)\n",
            "Requirement already satisfied: markdown-it-py>=2.2.0 in /usr/local/lib/python3.10/dist-packages (from rich>=10.11.0->typer<1.0,>=0.12->gradio) (3.0.0)\n",
            "Requirement already satisfied: pygments<3.0.0,>=2.13.0 in /usr/local/lib/python3.10/dist-packages (from rich>=10.11.0->typer<1.0,>=0.12->gradio) (2.18.0)\n",
            "Requirement already satisfied: charset-normalizer<4,>=2 in /usr/local/lib/python3.10/dist-packages (from requests->huggingface-hub>=0.25.1->gradio) (3.4.0)\n",
            "Requirement already satisfied: urllib3<3,>=1.21.1 in /usr/local/lib/python3.10/dist-packages (from requests->huggingface-hub>=0.25.1->gradio) (2.2.3)\n",
            "Requirement already satisfied: mdurl~=0.1 in /usr/local/lib/python3.10/dist-packages (from markdown-it-py>=2.2.0->rich>=10.11.0->typer<1.0,>=0.12->gradio) (0.1.2)\n",
            "Downloading gradio-5.7.1-py3-none-any.whl (57.1 MB)\n",
            "\u001b[2K   \u001b[90m━━━━━━━━━━━━━━━━━━━━━━━━━━━━━━━━━━━━━━━━\u001b[0m \u001b[32m57.1/57.1 MB\u001b[0m \u001b[31m12.9 MB/s\u001b[0m eta \u001b[36m0:00:00\u001b[0m\n",
            "\u001b[?25hDownloading gradio_client-1.5.0-py3-none-any.whl (320 kB)\n",
            "\u001b[2K   \u001b[90m━━━━━━━━━━━━━━━━━━━━━━━━━━━━━━━━━━━━━━━━\u001b[0m \u001b[32m320.1/320.1 kB\u001b[0m \u001b[31m25.9 MB/s\u001b[0m eta \u001b[36m0:00:00\u001b[0m\n",
            "\u001b[?25hDownloading python_multipart-0.0.12-py3-none-any.whl (23 kB)\n",
            "Downloading tomlkit-0.12.0-py3-none-any.whl (37 kB)\n",
            "Downloading aiofiles-23.2.1-py3-none-any.whl (15 kB)\n",
            "Downloading fastapi-0.115.5-py3-none-any.whl (94 kB)\n",
            "\u001b[2K   \u001b[90m━━━━━━━━━━━━━━━━━━━━━━━━━━━━━━━━━━━━━━━━\u001b[0m \u001b[32m94.9/94.9 kB\u001b[0m \u001b[31m8.2 MB/s\u001b[0m eta \u001b[36m0:00:00\u001b[0m\n",
            "\u001b[?25hDownloading MarkupSafe-2.1.5-cp310-cp310-manylinux_2_17_x86_64.manylinux2014_x86_64.whl (25 kB)\n",
            "Downloading ruff-0.8.1-py3-none-manylinux_2_17_x86_64.manylinux2014_x86_64.whl (11.2 MB)\n",
            "\u001b[2K   \u001b[90m━━━━━━━━━━━━━━━━━━━━━━━━━━━━━━━━━━━━━━━━\u001b[0m \u001b[32m11.2/11.2 MB\u001b[0m \u001b[31m95.6 MB/s\u001b[0m eta \u001b[36m0:00:00\u001b[0m\n",
            "\u001b[?25hDownloading safehttpx-0.1.1-py3-none-any.whl (8.4 kB)\n",
            "Downloading semantic_version-2.10.0-py2.py3-none-any.whl (15 kB)\n",
            "Downloading starlette-0.41.3-py3-none-any.whl (73 kB)\n",
            "\u001b[2K   \u001b[90m━━━━━━━━━━━━━━━━━━━━━━━━━━━━━━━━━━━━━━━━\u001b[0m \u001b[32m73.2/73.2 kB\u001b[0m \u001b[31m6.7 MB/s\u001b[0m eta \u001b[36m0:00:00\u001b[0m\n",
            "\u001b[?25hDownloading uvicorn-0.32.1-py3-none-any.whl (63 kB)\n",
            "\u001b[2K   \u001b[90m━━━━━━━━━━━━━━━━━━━━━━━━━━━━━━━━━━━━━━━━\u001b[0m \u001b[32m63.8/63.8 kB\u001b[0m \u001b[31m5.7 MB/s\u001b[0m eta \u001b[36m0:00:00\u001b[0m\n",
            "\u001b[?25hDownloading ffmpy-0.4.0-py3-none-any.whl (5.8 kB)\n",
            "Downloading pydub-0.25.1-py2.py3-none-any.whl (32 kB)\n",
            "Downloading websockets-12.0-cp310-cp310-manylinux_2_5_x86_64.manylinux1_x86_64.manylinux_2_17_x86_64.manylinux2014_x86_64.whl (130 kB)\n",
            "\u001b[2K   \u001b[90m━━━━━━━━━━━━━━━━━━━━━━━━━━━━━━━━━━━━━━━━\u001b[0m \u001b[32m130.2/130.2 kB\u001b[0m \u001b[31m12.2 MB/s\u001b[0m eta \u001b[36m0:00:00\u001b[0m\n",
            "\u001b[?25hInstalling collected packages: pydub, websockets, uvicorn, tomlkit, semantic-version, ruff, python-multipart, markupsafe, ffmpy, aiofiles, starlette, safehttpx, gradio-client, fastapi, gradio\n",
            "  Attempting uninstall: markupsafe\n",
            "    Found existing installation: MarkupSafe 3.0.2\n",
            "    Uninstalling MarkupSafe-3.0.2:\n",
            "      Successfully uninstalled MarkupSafe-3.0.2\n",
            "Successfully installed aiofiles-23.2.1 fastapi-0.115.5 ffmpy-0.4.0 gradio-5.7.1 gradio-client-1.5.0 markupsafe-2.1.5 pydub-0.25.1 python-multipart-0.0.12 ruff-0.8.1 safehttpx-0.1.1 semantic-version-2.10.0 starlette-0.41.3 tomlkit-0.12.0 uvicorn-0.32.1 websockets-12.0\n"
          ]
        }
      ]
    },
    {
      "cell_type": "code",
      "execution_count": 15,
      "metadata": {
        "id": "wwvzogdbLe-X"
      },
      "outputs": [],
      "source": [
        "import os\n",
        "import random\n",
        "import torch\n",
        "import cv2\n",
        "from torchvision.transforms import ToTensor\n",
        "from PIL import Image, ImageTk\n",
        "import tkinter as tk\n",
        "from tkinter import filedialog, Label, Button\n",
        "import numpy as np\n",
        "from pycocotools.coco import COCO\n",
        "from torchvision.models.detection import maskrcnn_resnet50_fpn\n",
        "import requests\n",
        "from tqdm import tqdm  # For progress bar\n",
        "import requests\n",
        "import tarfile\n",
        "import zipfile\n",
        "import gradio as gr"
      ]
    },
    {
      "cell_type": "code",
      "source": [
        "# Set the base directory where the dataset will be downloaded\n",
        "base_dir = \"C:\\\\Users\\\\josep\\\\COCO\"  # Replace with your desired path\n",
        "\n",
        "# URLs for the COCO 2017 dataset\n",
        "urls = {\n",
        "    \"train2017\": \"http://images.cocodataset.org/zips/train2017.zip\",\n",
        "    \"val2017\": \"http://images.cocodataset.org/zips/val2017.zip\",\n",
        "    \"annotations\": \"http://images.cocodataset.org/annotations/annotations_trainval2017.zip\"\n",
        "}"
      ],
      "metadata": {
        "id": "haxqyfmfLlZ9"
      },
      "execution_count": 16,
      "outputs": []
    },
    {
      "cell_type": "code",
      "source": [
        "# Create the directory if it doesn't exist\n",
        "os.makedirs(base_dir, exist_ok=True)"
      ],
      "metadata": {
        "id": "pIkGX2bOLpn7"
      },
      "execution_count": 17,
      "outputs": []
    },
    {
      "cell_type": "code",
      "source": [
        "def download_and_extract(url, dest_folder):\n",
        "    filename = os.path.join(dest_folder, url.split(\"/\")[-1])\n",
        "    # Download file\n",
        "    if not os.path.exists(filename):\n",
        "        print(f\"Downloading {filename}...\")\n",
        "        response = requests.get(url, stream=True)\n",
        "        total_size = int(response.headers.get('content-length', 0))\n",
        "        with open(filename, 'wb') as file, tqdm(\n",
        "            desc=filename,\n",
        "            total=total_size,\n",
        "            unit='B',\n",
        "            unit_scale=True,\n",
        "            unit_divisor=1024,\n",
        "        ) as bar:\n",
        "            for data in response.iter_content(chunk_size=1024):\n",
        "                bar.update(len(data))\n",
        "                file.write(data)\n",
        "\n",
        "    # Extract file\n",
        "    print(f\"Extracting {filename}...\")\n",
        "    import zipfile\n",
        "    with zipfile.ZipFile(filename, 'r') as zip_ref:\n",
        "        zip_ref.extractall(dest_folder)"
      ],
      "metadata": {
        "id": "g_yKvZJcLwKg"
      },
      "execution_count": 18,
      "outputs": []
    },
    {
      "cell_type": "code",
      "source": [
        "def download_and_extract(url, base_dir):\n",
        "    \"\"\"\n",
        "    Downloads and extracts a file from a given URL.\n",
        "    Supports .zip and .tar.gz formats.\n",
        "\n",
        "    Args:\n",
        "        url (str): The URL of the file to download.\n",
        "        base_dir (str): Directory to extract the files into.\n",
        "    \"\"\"\n",
        "    # Get the filename from the URL\n",
        "    filename = os.path.basename(url)\n",
        "    filepath = os.path.join(base_dir, filename)\n",
        "\n",
        "    # Download the file\n",
        "    if not os.path.exists(filepath):\n",
        "        print(f\"Downloading {filename}...\")\n",
        "        response = requests.get(url, stream=True)\n",
        "        with open(filepath, \"wb\") as f:\n",
        "            for chunk in response.iter_content(chunk_size=1024):\n",
        "                if chunk:\n",
        "                    f.write(chunk)\n",
        "\n",
        "    # Extract the file\n",
        "    print(f\"Extracting {filename}...\")\n",
        "    if filename.endswith(\".zip\"):\n",
        "        with zipfile.ZipFile(filepath, \"r\") as zip_ref:\n",
        "            zip_ref.extractall(base_dir)\n",
        "    elif filename.endswith((\".tar.gz\", \".tgz\")):\n",
        "        with tarfile.open(filepath, \"r:gz\") as tar_ref:\n",
        "            tar_ref.extractall(base_dir)\n",
        "    else:\n",
        "        print(f\"Unsupported file type for {filename}\")"
      ],
      "metadata": {
        "id": "UuCx_fpVMYqk"
      },
      "execution_count": 19,
      "outputs": []
    },
    {
      "cell_type": "code",
      "source": [
        "for name, url in urls.items():\n",
        "    download_and_extract(url, base_dir)"
      ],
      "metadata": {
        "colab": {
          "base_uri": "https://localhost:8080/"
        },
        "id": "59Q_NR85LxXl",
        "outputId": "b2bcb4e5-f7b9-4820-b22f-b64d114b266a"
      },
      "execution_count": 20,
      "outputs": [
        {
          "output_type": "stream",
          "name": "stdout",
          "text": [
            "Downloading train2017.zip...\n",
            "Extracting train2017.zip...\n",
            "Downloading val2017.zip...\n",
            "Extracting val2017.zip...\n",
            "Downloading annotations_trainval2017.zip...\n",
            "Extracting annotations_trainval2017.zip...\n"
          ]
        }
      ]
    },
    {
      "cell_type": "code",
      "source": [
        "# Load YOLOv5 model\n",
        "def load_yolov5_model():\n",
        "    return torch.hub.load('ultralytics/yolov5', 'yolov5s')"
      ],
      "metadata": {
        "id": "afnfpo5APv_J"
      },
      "execution_count": 21,
      "outputs": []
    },
    {
      "cell_type": "code",
      "source": [
        "# Load Mask R-CNN model\n",
        "def load_mask_rcnn_model():\n",
        "    model = maskrcnn_resnet50_fpn(pretrained=True)\n",
        "    model.eval()\n",
        "    return model"
      ],
      "metadata": {
        "id": "nOHOPalTPzjY"
      },
      "execution_count": 22,
      "outputs": []
    },
    {
      "cell_type": "code",
      "source": [
        "# COCO dataset initialization\n",
        "def initialize_coco_dataset(dataset_path, annotation_file):\n",
        "    coco = COCO(annotation_file)\n",
        "    image_ids = coco.getImgIds()\n",
        "    images = coco.loadImgs(image_ids)\n",
        "    return coco, images"
      ],
      "metadata": {
        "id": "Az9hvWZ3P1T_"
      },
      "execution_count": 23,
      "outputs": []
    },
    {
      "cell_type": "code",
      "source": [
        "# People counting logic using bounding box overlap\n",
        "def count_people(bboxes):\n",
        "    count = 0\n",
        "    for i, bbox1 in enumerate(bboxes):\n",
        "        overlap = False\n",
        "        for j, bbox2 in enumerate(bboxes):\n",
        "            if i != j and calculate_iou(bbox1, bbox2) > 0.5:\n",
        "                overlap = True\n",
        "                break\n",
        "        if not overlap:\n",
        "            count += 1\n",
        "    return count"
      ],
      "metadata": {
        "id": "PfeBhh05P1Q4"
      },
      "execution_count": 24,
      "outputs": []
    },
    {
      "cell_type": "code",
      "source": [
        "# IOU calculation\n",
        "def calculate_iou(box1, box2):\n",
        "    x1, y1, w1, h1 = box1\n",
        "    x2, y2, w2, h2 = box2\n",
        "\n",
        "    xa = max(x1, x2)\n",
        "    ya = max(y1, y2)\n",
        "    xb = min(x1 + w1, x2 + w2)\n",
        "    yb = min(y1 + h1, y2 + h2)\n",
        "\n",
        "    inter_area = max(0, xb - xa) * max(0, yb - ya)\n",
        "    box1_area = w1 * h1\n",
        "    box2_area = w2 * h2\n",
        "\n",
        "    iou = inter_area / (box1_area + box2_area - inter_area)\n",
        "    return iou"
      ],
      "metadata": {
        "id": "76Fy9VBiP1OH"
      },
      "execution_count": 25,
      "outputs": []
    },
    {
      "cell_type": "code",
      "source": [
        "# Randomly select images\n",
        "def select_random_images(images, num_images=6):\n",
        "    return random.sample(images, num_images)"
      ],
      "metadata": {
        "id": "w-YDvpMlP1Km"
      },
      "execution_count": 26,
      "outputs": []
    },
    {
      "cell_type": "code",
      "source": [
        "# GUI for displaying images and counts\n",
        "class PeopleCountingApp:\n",
        "    def __init__(self, root, coco, images, yolov5_model, mask_rcnn_model, dataset_path):\n",
        "        self.root = root\n",
        "        self.coco = coco\n",
        "        self.images = images\n",
        "        self.yolov5_model = yolov5_model\n",
        "        self.mask_rcnn_model = mask_rcnn_model\n",
        "        self.dataset_path = dataset_path\n",
        "        self.image_labels = []\n",
        "\n",
        "        self.setup_ui()\n",
        "\n",
        "    def setup_ui(self):\n",
        "        self.label = Label(self.root, text=\"People Counting System\")\n",
        "        self.label.pack()\n",
        "\n",
        "        self.select_button = Button(self.root, text=\"Select Random Images\", command=self.show_random_images)\n",
        "        self.select_button.pack()\n",
        "\n",
        "    def show_random_images(self):\n",
        "        # Clear existing labels\n",
        "        for label in self.image_labels:\n",
        "            label.destroy()\n",
        "        self.image_labels = []\n",
        "\n",
        "        # Select random images\n",
        "        selected_images = select_random_images(self.images)\n",
        "\n",
        "        for img_info in selected_images:\n",
        "            img_path = os.path.join(self.dataset_path, img_info['file_name'])\n",
        "            image = Image.open(img_path)\n",
        "            count = self.process_image(img_path)\n",
        "\n",
        "            # Resize for display\n",
        "            image = image.resize((300, 300))\n",
        "            photo = ImageTk.PhotoImage(image)\n",
        "\n",
        "            img_label = Label(self.root, image=photo)\n",
        "            img_label.photo = photo  # Keep reference\n",
        "            img_label.pack()\n",
        "\n",
        "            count_label = Label(self.root, text=f\"People Count: {count}\")\n",
        "            count_label.pack()\n",
        "\n",
        "            self.image_labels.append(img_label)\n",
        "            self.image_labels.append(count_label)\n",
        "\n",
        "    def process_image(self, img_path):\n",
        "        image = cv2.imread(img_path)\n",
        "        image_rgb = cv2.cvtColor(image, cv2.COLOR_BGR2RGB)\n",
        "        image_tensor = ToTensor()(image_rgb).unsqueeze(0)\n",
        "\n",
        "        # YOLOv5 detection\n",
        "        yolov5_results = self.yolov5_model(image)\n",
        "        yolo_bboxes = [x[:4] for x in yolov5_results.xyxy[0].cpu().numpy() if int(x[-1]) == 0]  # Class 0: Person\n",
        "\n",
        "        # Mask R-CNN detection\n",
        "        mask_rcnn_results = self.mask_rcnn_model(image_tensor)[0]\n",
        "        mask_rcnn_bboxes = mask_rcnn_results['boxes'][mask_rcnn_results['labels'] == 1].detach().cpu().numpy()\n",
        "\n",
        "        # Combine results and count\n",
        "        combined_bboxes = list(yolo_bboxes) + list(mask_rcnn_bboxes)\n",
        "        return count_people(combined_bboxes)"
      ],
      "metadata": {
        "id": "VP4oDM9wP1HS"
      },
      "execution_count": 27,
      "outputs": []
    },
    {
      "cell_type": "code",
      "source": [
        "# Load models and dataset\n",
        "def initialize_coco_dataset(dataset_path, annotation_file):\n",
        "    from pycocotools.coco import COCO\n",
        "    coco = COCO(annotation_file)\n",
        "    images = coco.getImgIds()\n",
        "    return coco, images\n",
        "\n",
        "def load_yolov5_model():\n",
        "    import torch\n",
        "    model = torch.hub.load('ultralytics/yolov5', 'yolov5s', trust_repo=True)\n",
        "    return model"
      ],
      "metadata": {
        "id": "nLeKUmIzUrU0"
      },
      "execution_count": 28,
      "outputs": []
    },
    {
      "cell_type": "code",
      "source": [
        "def load_mask_rcnn_model():\n",
        "    import torchvision\n",
        "    model = torchvision.models.detection.maskrcnn_resnet50_fpn(pretrained=True)\n",
        "    model.eval()\n",
        "    return model\n",
        "\n",
        "def count_people(image):\n",
        "    # Perform inference using YOLOv5 and Mask R-CNN models\n",
        "    results = yolov5_model(image)\n",
        "    detections = results.pandas().xyxy[0]  # Get detections in pandas format\n",
        "    people_count = len(detections[detections['name'] == 'person'])\n",
        "\n",
        "    return f\"Number of people detected: {people_count}\""
      ],
      "metadata": {
        "id": "0Ea4EvuzUtC4"
      },
      "execution_count": 29,
      "outputs": []
    },
    {
      "cell_type": "code",
      "source": [
        "# Setup paths\n",
        "dataset_path = '/content/'\n",
        "annotation_file = '/content/instances_val2017.json'"
      ],
      "metadata": {
        "id": "62AxSh1rUxGH"
      },
      "execution_count": 35,
      "outputs": []
    },
    {
      "cell_type": "code",
      "source": [
        "# Load COCO dataset and models\n",
        "coco, images = initialize_coco_dataset(dataset_path, annotation_file)\n",
        "yolov5_model = load_yolov5_model()\n",
        "mask_rcnn_model = load_mask_rcnn_model()"
      ],
      "metadata": {
        "colab": {
          "base_uri": "https://localhost:8080/"
        },
        "id": "ECWXztdWU14P",
        "outputId": "98530315-2e07-4d7b-c8cb-b14d025f46e4"
      },
      "execution_count": 38,
      "outputs": [
        {
          "output_type": "stream",
          "name": "stdout",
          "text": [
            "loading annotations into memory...\n",
            "Done (t=1.28s)\n",
            "creating index...\n",
            "index created!\n"
          ]
        },
        {
          "output_type": "stream",
          "name": "stderr",
          "text": [
            "Downloading: \"https://github.com/ultralytics/yolov5/zipball/master\" to /root/.cache/torch/hub/master.zip\n"
          ]
        },
        {
          "output_type": "stream",
          "name": "stdout",
          "text": [
            "Creating new Ultralytics Settings v0.0.6 file ✅ \n",
            "View Ultralytics Settings with 'yolo settings' or at '/root/.config/Ultralytics/settings.json'\n",
            "Update Settings with 'yolo settings key=value', i.e. 'yolo settings runs_dir=path/to/dir'. For help see https://docs.ultralytics.com/quickstart/#ultralytics-settings.\n"
          ]
        },
        {
          "output_type": "stream",
          "name": "stderr",
          "text": [
            "YOLOv5 🚀 2024-11-30 Python-3.10.12 torch-2.5.1+cu121 CPU\n",
            "\n",
            "Downloading https://github.com/ultralytics/yolov5/releases/download/v7.0/yolov5s.pt to yolov5s.pt...\n",
            "100%|██████████| 14.1M/14.1M [00:00<00:00, 323MB/s]\n",
            "\n",
            "Fusing layers... \n",
            "YOLOv5s summary: 213 layers, 7225885 parameters, 0 gradients, 16.4 GFLOPs\n",
            "Adding AutoShape... \n",
            "Downloading: \"https://download.pytorch.org/models/maskrcnn_resnet50_fpn_coco-bf2d0c1e.pth\" to /root/.cache/torch/hub/checkpoints/maskrcnn_resnet50_fpn_coco-bf2d0c1e.pth\n",
            "100%|██████████| 170M/170M [00:01<00:00, 129MB/s]\n"
          ]
        }
      ]
    },
    {
      "cell_type": "code",
      "source": [
        "# Gradio Interface\n",
        "iface = gr.Interface(fn=count_people, inputs=\"image\", outputs=\"text\", title=\"People Counting App\")\n",
        "iface.launch()"
      ],
      "metadata": {
        "colab": {
          "base_uri": "https://localhost:8080/",
          "height": 646
        },
        "id": "QKDoc3syU83W",
        "outputId": "8e340443-3129-4709-9e47-8c17498a39ab"
      },
      "execution_count": 39,
      "outputs": [
        {
          "output_type": "stream",
          "name": "stdout",
          "text": [
            "Running Gradio in a Colab notebook requires sharing enabled. Automatically setting `share=True` (you can turn this off by setting `share=False` in `launch()` explicitly).\n",
            "\n",
            "Colab notebook detected. To show errors in colab notebook, set debug=True in launch()\n",
            "* Running on public URL: https://9727e7bcd0938dd9f3.gradio.live\n",
            "\n",
            "This share link expires in 72 hours. For free permanent hosting and GPU upgrades, run `gradio deploy` from the terminal in the working directory to deploy to Hugging Face Spaces (https://huggingface.co/spaces)\n"
          ]
        },
        {
          "output_type": "display_data",
          "data": {
            "text/plain": [
              "<IPython.core.display.HTML object>"
            ],
            "text/html": [
              "<div><iframe src=\"https://9727e7bcd0938dd9f3.gradio.live\" width=\"100%\" height=\"500\" allow=\"autoplay; camera; microphone; clipboard-read; clipboard-write;\" frameborder=\"0\" allowfullscreen></iframe></div>"
            ]
          },
          "metadata": {}
        },
        {
          "output_type": "execute_result",
          "data": {
            "text/plain": []
          },
          "metadata": {},
          "execution_count": 39
        }
      ]
    },
    {
      "cell_type": "code",
      "source": [],
      "metadata": {
        "id": "gY9UayyvP035"
      },
      "execution_count": null,
      "outputs": []
    },
    {
      "cell_type": "code",
      "source": [],
      "metadata": {
        "id": "51VBnKC1P0tZ"
      },
      "execution_count": null,
      "outputs": []
    }
  ]
}